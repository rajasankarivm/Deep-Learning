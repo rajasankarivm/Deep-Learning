{
  "nbformat": 4,
  "nbformat_minor": 0,
  "metadata": {
    "colab": {
      "provenance": [],
      "toc_visible": true
    },
    "kernelspec": {
      "name": "python3",
      "display_name": "Python 3"
    },
    "language_info": {
      "name": "python"
    }
  },
  "cells": [
    {
      "cell_type": "markdown",
      "source": [
        "# import the necessary packages"
      ],
      "metadata": {
        "id": "b-PqMGqrM2u_"
      }
    },
    {
      "cell_type": "code",
      "execution_count": 1,
      "metadata": {
        "id": "-671UPxME8G-"
      },
      "outputs": [],
      "source": [
        "import numpy as np\n",
        "import pandas as pd\n",
        "import matplotlib.pyplot as plt\n",
        "\n",
        "from keras.datasets import mnist\n",
        "from keras.models import Sequential\n",
        "from keras.layers import Dense, Dropout, Activation\n",
        "from keras.utils import np_utils\n",
        "np.random.seed(35)"
      ]
    },
    {
      "cell_type": "markdown",
      "source": [
        "\n",
        "Hand written digit recognition\n",
        "MNIST Dataset\n",
        "Number of Training Images = 60000\n",
        "Number of Testing Images = 10000"
      ],
      "metadata": {
        "id": "dLAZ8ZEIGXBz"
      }
    },
    {
      "cell_type": "code",
      "source": [
        "(X_train, y_train), (X_test, y_test) = mnist.load_data()\n",
        "print(\"X_train original shape\", X_train.shape)\n",
        "print(\"y_train original shape\", y_train.shape)\n",
        "print(\"X_test original shape\", X_test.shape)\n",
        "print(\"y_test original shape\", y_test.shape)"
      ],
      "metadata": {
        "colab": {
          "base_uri": "https://localhost:8080/"
        },
        "id": "-UFvKocOGvgr",
        "outputId": "8ea0396d-c409-4a11-f5de-36d9da518cfe"
      },
      "execution_count": 2,
      "outputs": [
        {
          "output_type": "stream",
          "name": "stdout",
          "text": [
            "Downloading data from https://storage.googleapis.com/tensorflow/tf-keras-datasets/mnist.npz\n",
            "11493376/11490434 [==============================] - 0s 0us/step\n",
            "11501568/11490434 [==============================] - 0s 0us/step\n",
            "X_train original shape (60000, 28, 28)\n",
            "y_train original shape (60000,)\n",
            "X_test original shape (10000, 28, 28)\n",
            "y_test original shape (10000,)\n"
          ]
        }
      ]
    },
    {
      "cell_type": "markdown",
      "source": [
        "Display few images"
      ],
      "metadata": {
        "id": "lkpGFwlmM60J"
      }
    },
    {
      "cell_type": "code",
      "source": [
        "plt.imshow(X_train[1000], cmap='gray')\n",
        "plt.title(y_train[1000])"
      ],
      "metadata": {
        "colab": {
          "base_uri": "https://localhost:8080/",
          "height": 299
        },
        "id": "ZzP3h8J-G90_",
        "outputId": "09cf4578-553b-425d-acb4-7d9e38ecd9d4"
      },
      "execution_count": 3,
      "outputs": [
        {
          "output_type": "execute_result",
          "data": {
            "text/plain": [
              "Text(0.5, 1.0, '0')"
            ]
          },
          "metadata": {},
          "execution_count": 3
        },
        {
          "output_type": "display_data",
          "data": {
            "text/plain": [
              "<Figure size 432x288 with 1 Axes>"
            ],
            "image/png": "[encoded data removed]"
          },
          "metadata": {
            "needs_background": "light"
          }
        }
      ]
    },
    {
      "cell_type": "code",
      "source": [
        "plt.imshow(X_train[1001], cmap='gray')\n",
        "plt.title(y_train[1001])"
      ],
      "metadata": {
        "colab": {
          "base_uri": "https://localhost:8080/",
          "height": 299
        },
        "id": "mUi6bwTtHJRG",
        "outputId": "e9bdd13a-0002-4b33-d47e-27966a38495a"
      },
      "execution_count": 4,
      "outputs": [
        {
          "output_type": "execute_result",
          "data": {
            "text/plain": [
              "Text(0.5, 1.0, '7')"
            ]
          },
          "metadata": {},
          "execution_count": 4
        },
        {
          "output_type": "display_data",
          "data": {
            "text/plain": [
              "<Figure size 432x288 with 1 Axes>"
            ],
            "image/png": "[encoded data removed]"
          },
          "metadata": {
            "needs_background": "light"
          }
        }
      ]
    },
    {
      "cell_type": "code",
      "source": [
        "plt.imshow(X_train[1002], cmap='gray')\n",
        "plt.title(y_train[1002])"
      ],
      "metadata": {
        "colab": {
          "base_uri": "https://localhost:8080/",
          "height": 299
        },
        "id": "qJDKcBXnH0iF",
        "outputId": "b0eab010-0186-4716-b52d-44fee532a7d0"
      },
      "execution_count": 5,
      "outputs": [
        {
          "output_type": "execute_result",
          "data": {
            "text/plain": [
              "Text(0.5, 1.0, '1')"
            ]
          },
          "metadata": {},
          "execution_count": 5
        },
        {
          "output_type": "display_data",
          "data": {
            "text/plain": [
              "<Figure size 432x288 with 1 Axes>"
            ],
            "image/png": "[encoded data removed]"
          },
          "metadata": {
            "needs_background": "light"
          }
        }
      ]
    },
    {
      "cell_type": "code",
      "source": [
        "plt.imshow(X_train[1003], cmap='gray')\n",
        "plt.title(y_train[1003])"
      ],
      "metadata": {
        "colab": {
          "base_uri": "https://localhost:8080/",
          "height": 298
        },
        "id": "NUB8NRheH2h4",
        "outputId": "77c3fde5-4d0e-4a1a-a9e7-c3967a134a8a"
      },
      "execution_count": null,
      "outputs": [
        {
          "output_type": "execute_result",
          "data": {
            "text/plain": [
              "Text(0.5, 1.0, '1')"
            ]
          },
          "metadata": {},
          "execution_count": 31
        },
        {
          "output_type": "display_data",
          "data": {
            "text/plain": [
              "<Figure size 432x288 with 1 Axes>"
            ],
            "image/png": "[encoded data removed]"
          },
          "metadata": {
            "needs_background": "light"
          }
        }
      ]
    },
    {
      "cell_type": "code",
      "source": [
        "plt.imshow(X_train[1004], cmap='gray')\n",
        "plt.title(y_train[1004])"
      ],
      "metadata": {
        "colab": {
          "base_uri": "https://localhost:8080/",
          "height": 298
        },
        "id": "fIPhQjirJ8bx",
        "outputId": "4017f3c6-52e2-46e3-af85-98afc4c5555b"
      },
      "execution_count": null,
      "outputs": [
        {
          "output_type": "execute_result",
          "data": {
            "text/plain": [
              "Text(0.5, 1.0, '4')"
            ]
          },
          "metadata": {},
          "execution_count": 32
        },
        {
          "output_type": "display_data",
          "data": {
            "text/plain": [
              "<Figure size 432x288 with 1 Axes>"
            ],
            "image/png": "[encoded data removed]"
          },
          "metadata": {
            "needs_background": "light"
          }
        }
      ]
    },
    {
      "cell_type": "markdown",
      "source": [
        "# flatten the 28*28 images to a 784-D vector for each image\n",
        "# Channel last ordering =>  [rows][cols][samples].  In this case row=column =28, samples=60000\n",
        "\n",
        "# normalize inputs from 0-255 to 0-1"
      ],
      "metadata": {
        "id": "Xz05DVZ1F_Vv"
      }
    },
    {
      "cell_type": "code",
      "source": [
        "X_train = X_train.reshape(60000,784)\n",
        "X_test = X_test.reshape(10000,784)\n",
        "\n",
        "X_train = X_train.astype('float32')\n",
        "X_test = X_test.astype('float32')\n",
        "\n",
        "X_train/=255\n",
        "X_test/=255 "
      ],
      "metadata": {
        "id": "97_4Kn57H3-N"
      },
      "execution_count": null,
      "outputs": []
    },
    {
      "cell_type": "markdown",
      "source": [
        "# one hot encode outputs\n",
        "# for digit 1 => 0 1 0 0 0 0 0 0 0 0\n",
        "# for digit 7 => 0 0 0 0 0 0 0 1 0 0"
      ],
      "metadata": {
        "id": "rF6DsG0uM_wH"
      }
    },
    {
      "cell_type": "code",
      "source": [
        "number_of_classes = 10\n",
        "\n",
        "Y_train = np_utils.to_categorical(y_train, number_of_classes)\n",
        "Y_test = np_utils.to_categorical(y_test, number_of_classes)\n",
        "\n",
        "y_train[10], Y_train[10]"
      ],
      "metadata": {
        "colab": {
          "base_uri": "https://localhost:8080/"
        },
        "id": "PC7TiCaUIQqa",
        "outputId": "573522f9-c10c-4c52-9a97-160937ace040"
      },
      "execution_count": null,
      "outputs": [
        {
          "output_type": "execute_result",
          "data": {
            "text/plain": [
              "(3, array([0., 0., 0., 1., 0., 0., 0., 0., 0., 0.], dtype=float32))"
            ]
          },
          "metadata": {},
          "execution_count": 8
        }
      ]
    },
    {
      "cell_type": "markdown",
      "source": [
        "Build the model"
      ],
      "metadata": {
        "id": "b3eA4MutNK-T"
      }
    },
    {
      "cell_type": "code",
      "source": [
        "model = Sequential()\n",
        "\n",
        "model.add(Dense(512, input_dim=784,activation='relu'))\n",
        "# An \"activation\" is just a non-linear function applied to the output\n",
        "# of the layer above. Here, with a \"rectified linear unit\",\n",
        "# we clamp all values below 0 to 0.\n",
        "#model.add(Activation('relu'))\n",
        "# Dropout helps protect the model from memorizing or \"overfitting\" the training data\n",
        "#model.add(Dropout(0.2))\n",
        "\n",
        "model.add(Dense(256,activation='relu'))\n",
        "#model.add(Activation('relu'))\n",
        "#model.add(Dropout(0.2))\n",
        "\n",
        "model.add(Dense(128,activation='relu'))\n",
        "#model.add(Activation('relu'))\n",
        "#model.add(Dropout(0.2))\n",
        "\n",
        "model.add(Dense(10,activation='softmax'))\n",
        "# This special \"softmax\" activation among other things,\n",
        "# ensures the output is a valid probaility distribution, that is\n",
        "# that its values are all non-negative and sum to 1.\n",
        "#model.add(Activation('softmax'))"
      ],
      "metadata": {
        "id": "FW2nQqALITnW"
      },
      "execution_count": null,
      "outputs": []
    },
    {
      "cell_type": "code",
      "source": [
        "model.compile(loss='categorical_crossentropy', optimizer='adam', metrics=['accuracy'])"
      ],
      "metadata": {
        "id": "z2GQYfldIZ7N"
      },
      "execution_count": null,
      "outputs": []
    },
    {
      "cell_type": "code",
      "source": [
        "model.summary()"
      ],
      "metadata": {
        "colab": {
          "base_uri": "https://localhost:8080/"
        },
        "id": "cDDUqL6fIb9e",
        "outputId": "936ad03d-a996-4dad-c9a4-cedc1241829e"
      },
      "execution_count": null,
      "outputs": [
        {
          "output_type": "stream",
          "name": "stdout",
          "text": [
            "Model: \"sequential\"\n",
            "_________________________________________________________________\n",
            " Layer (type)                Output Shape              Param #   \n",
            "=================================================================\n",
            " dense (Dense)               (None, 512)               401920    \n",
            "                                                                 \n",
            " dense_1 (Dense)             (None, 256)               131328    \n",
            "                                                                 \n",
            " dense_2 (Dense)             (None, 128)               32896     \n",
            "                                                                 \n",
            " dense_3 (Dense)             (None, 10)                1290      \n",
            "                                                                 \n",
            "=================================================================\n",
            "Total params: 567,434\n",
            "Trainable params: 567,434\n",
            "Non-trainable params: 0\n",
            "_________________________________________________________________\n"
          ]
        }
      ]
    },
    {
      "cell_type": "code",
      "source": [
        "size = int(len(X_train) * 0.8)\n",
        "\n",
        "train_x, val_x = X_train[:size], X_train[size:]\n",
        "train_y, val_y = Y_train[:size], Y_train[size:]"
      ],
      "metadata": {
        "id": "5CoQrS0HIXM-"
      },
      "execution_count": null,
      "outputs": []
    },
    {
      "cell_type": "code",
      "source": [
        "hist = model.fit(train_x, train_y, batch_size=128, epochs=20, validation_data=(val_x, val_y))"
      ],
      "metadata": {
        "colab": {
          "base_uri": "https://localhost:8080/"
        },
        "id": "O7373pk0Ihxl",
        "outputId": "e4f6d85d-f845-4e30-dec1-51e5b39cc2a9"
      },
      "execution_count": null,
      "outputs": [
        {
          "output_type": "stream",
          "name": "stdout",
          "text": [
            "Epoch 1/20\n",
            "375/375 [==============================] - 6s 13ms/step - loss: 0.2494 - accuracy: 0.9260 - val_loss: 0.1182 - val_accuracy: 0.9621\n",
            "Epoch 2/20\n",
            "375/375 [==============================] - 5s 13ms/step - loss: 0.0914 - accuracy: 0.9727 - val_loss: 0.0994 - val_accuracy: 0.9694\n",
            "Epoch 3/20\n",
            "375/375 [==============================] - 6s 15ms/step - loss: 0.0600 - accuracy: 0.9817 - val_loss: 0.0907 - val_accuracy: 0.9723\n",
            "Epoch 4/20\n",
            "375/375 [==============================] - 7s 18ms/step - loss: 0.0408 - accuracy: 0.9871 - val_loss: 0.0965 - val_accuracy: 0.9728\n",
            "Epoch 5/20\n",
            "375/375 [==============================] - 5s 14ms/step - loss: 0.0320 - accuracy: 0.9896 - val_loss: 0.0946 - val_accuracy: 0.9728\n",
            "Epoch 6/20\n",
            "375/375 [==============================] - 5s 13ms/step - loss: 0.0264 - accuracy: 0.9911 - val_loss: 0.0985 - val_accuracy: 0.9763\n",
            "Epoch 7/20\n",
            "375/375 [==============================] - 5s 14ms/step - loss: 0.0230 - accuracy: 0.9930 - val_loss: 0.0918 - val_accuracy: 0.9751\n",
            "Epoch 8/20\n",
            "375/375 [==============================] - 5s 13ms/step - loss: 0.0193 - accuracy: 0.9934 - val_loss: 0.0981 - val_accuracy: 0.9767\n",
            "Epoch 9/20\n",
            "375/375 [==============================] - 6s 16ms/step - loss: 0.0170 - accuracy: 0.9943 - val_loss: 0.1035 - val_accuracy: 0.9767\n",
            "Epoch 10/20\n",
            "375/375 [==============================] - 5s 13ms/step - loss: 0.0194 - accuracy: 0.9938 - val_loss: 0.0956 - val_accuracy: 0.9773\n",
            "Epoch 11/20\n",
            "375/375 [==============================] - 5s 13ms/step - loss: 0.0117 - accuracy: 0.9962 - val_loss: 0.1160 - val_accuracy: 0.9747\n",
            "Epoch 12/20\n",
            "375/375 [==============================] - 5s 13ms/step - loss: 0.0145 - accuracy: 0.9948 - val_loss: 0.1078 - val_accuracy: 0.9780\n",
            "Epoch 13/20\n",
            "375/375 [==============================] - 5s 14ms/step - loss: 0.0141 - accuracy: 0.9955 - val_loss: 0.1074 - val_accuracy: 0.9770\n",
            "Epoch 14/20\n",
            "375/375 [==============================] - 5s 14ms/step - loss: 0.0102 - accuracy: 0.9965 - val_loss: 0.1176 - val_accuracy: 0.9772\n",
            "Epoch 15/20\n",
            "375/375 [==============================] - 5s 13ms/step - loss: 0.0134 - accuracy: 0.9958 - val_loss: 0.1131 - val_accuracy: 0.9795\n",
            "Epoch 16/20\n",
            "375/375 [==============================] - 5s 13ms/step - loss: 0.0090 - accuracy: 0.9970 - val_loss: 0.1425 - val_accuracy: 0.9753\n",
            "Epoch 17/20\n",
            "375/375 [==============================] - 5s 14ms/step - loss: 0.0116 - accuracy: 0.9964 - val_loss: 0.1185 - val_accuracy: 0.9786\n",
            "Epoch 18/20\n",
            "375/375 [==============================] - 6s 16ms/step - loss: 0.0091 - accuracy: 0.9971 - val_loss: 0.1131 - val_accuracy: 0.9796\n",
            "Epoch 19/20\n",
            "375/375 [==============================] - 7s 18ms/step - loss: 0.0087 - accuracy: 0.9972 - val_loss: 0.1461 - val_accuracy: 0.9722\n",
            "Epoch 20/20\n",
            "375/375 [==============================] - 9s 25ms/step - loss: 0.0078 - accuracy: 0.9974 - val_loss: 0.1360 - val_accuracy: 0.9774\n"
          ]
        }
      ]
    },
    {
      "cell_type": "code",
      "source": [
        "score = model.evaluate(X_test, Y_test)\n",
        "print()\n",
        "print('Test accuracy: ', score[1])"
      ],
      "metadata": {
        "colab": {
          "base_uri": "https://localhost:8080/"
        },
        "id": "jzXD8S1xIkzR",
        "outputId": "190d8fbd-8840-40cc-d2dd-d9e15c971db6"
      },
      "execution_count": null,
      "outputs": [
        {
          "output_type": "stream",
          "name": "stdout",
          "text": [
            "313/313 [==============================] - 1s 3ms/step - loss: 0.1129 - accuracy: 0.9788\n",
            "\n",
            "Test accuracy:  0.9787999987602234\n"
          ]
        }
      ]
    },
    {
      "cell_type": "code",
      "source": [
        "import numpy as np\n",
        "from keras.preprocessing import image\n",
        "#test_image = image.load_img('X_test[1000]')\n",
        "#test_image = image.img_to_array(test_image)\n",
        "#test_image = np.expand_dims(test_image, axis = 0)\n",
        "result = model.predict(X_train)\n",
        "#predictions = lm.predict(X_test)"
      ],
      "metadata": {
        "id": "EoJo5ldlInJB"
      },
      "execution_count": null,
      "outputs": []
    },
    {
      "cell_type": "code",
      "source": [
        "result[1000]"
      ],
      "metadata": {
        "colab": {
          "base_uri": "https://localhost:8080/"
        },
        "id": "McZiM3PrI3rN",
        "outputId": "aae4370b-fefb-4682-c4d9-8576c63f4e02"
      },
      "execution_count": null,
      "outputs": [
        {
          "output_type": "execute_result",
          "data": {
            "text/plain": [
              "array([9.99999881e-01, 4.76624920e-11, 8.44780814e-08, 1.62731462e-14,\n",
              "       4.57872004e-11, 1.23817514e-14, 1.82483667e-10, 5.94658329e-13,\n",
              "       1.88213659e-12, 6.39781250e-09], dtype=float32)"
            ]
          },
          "metadata": {},
          "execution_count": 17
        }
      ]
    },
    {
      "cell_type": "code",
      "source": [
        "result[1001]"
      ],
      "metadata": {
        "colab": {
          "base_uri": "https://localhost:8080/"
        },
        "id": "zqgJtbYFI5Gh",
        "outputId": "4b8ad01d-f8a3-4e77-fe8d-5798fead0802"
      },
      "execution_count": null,
      "outputs": [
        {
          "output_type": "execute_result",
          "data": {
            "text/plain": [
              "array([4.28712121e-16, 7.18056430e-12, 8.04765326e-15, 2.13046336e-16,\n",
              "       1.14379305e-11, 8.67393965e-17, 3.89898109e-20, 1.00000000e+00,\n",
              "       2.59116941e-17, 2.31200781e-10], dtype=float32)"
            ]
          },
          "metadata": {},
          "execution_count": 18
        }
      ]
    },
    {
      "cell_type": "code",
      "source": [
        "result[1002]"
      ],
      "metadata": {
        "colab": {
          "base_uri": "https://localhost:8080/"
        },
        "id": "kGSZwBWiI6rt",
        "outputId": "0318475b-413e-4cf9-ee24-6b84c29b943a"
      },
      "execution_count": null,
      "outputs": [
        {
          "output_type": "execute_result",
          "data": {
            "text/plain": [
              "array([3.4708014e-11, 9.9999869e-01, 3.5412949e-08, 1.0732131e-10,\n",
              "       1.2580598e-08, 2.4285959e-10, 8.0361900e-10, 2.3661624e-08,\n",
              "       1.3586614e-06, 1.5398960e-09], dtype=float32)"
            ]
          },
          "metadata": {},
          "execution_count": 19
        }
      ]
    },
    {
      "cell_type": "code",
      "source": [
        "result[1003]"
      ],
      "metadata": {
        "colab": {
          "base_uri": "https://localhost:8080/"
        },
        "id": "mPZLnHTzI9XJ",
        "outputId": "d04d92a3-81a2-4677-eb6a-c488f6458ea4"
      },
      "execution_count": null,
      "outputs": [
        {
          "output_type": "execute_result",
          "data": {
            "text/plain": [
              "array([8.84377783e-15, 1.00000000e+00, 1.07048120e-10, 2.11628512e-19,\n",
              "       1.73610050e-11, 5.12084983e-14, 2.04748246e-13, 6.26532246e-14,\n",
              "       1.06286846e-13, 8.07820390e-13], dtype=float32)"
            ]
          },
          "metadata": {},
          "execution_count": 21
        }
      ]
    },
    {
      "cell_type": "code",
      "source": [
        "result[1004]"
      ],
      "metadata": {
        "colab": {
          "base_uri": "https://localhost:8080/"
        },
        "id": "KaNwcOHKKZ8d",
        "outputId": "05793f0e-6c7a-4d7a-9fd4-da1d90221824"
      },
      "execution_count": null,
      "outputs": [
        {
          "output_type": "execute_result",
          "data": {
            "text/plain": [
              "array([1.1759682e-12, 1.5191272e-07, 7.4748735e-11, 5.4217872e-12,\n",
              "       9.9999809e-01, 3.6767746e-12, 1.3076779e-12, 1.0165940e-09,\n",
              "       9.3972241e-10, 1.8201947e-06], dtype=float32)"
            ]
          },
          "metadata": {},
          "execution_count": 33
        }
      ]
    },
    {
      "cell_type": "markdown",
      "source": [],
      "metadata": {
        "id": "cN1UUBSvI6jp"
      }
    }
  ]
}