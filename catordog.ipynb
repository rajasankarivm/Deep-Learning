{
  "nbformat": 4,
  "nbformat_minor": 0,
  "metadata": {
    "colab": {
      "provenance": []
    },
    "kernelspec": {
      "name": "python3",
      "display_name": "Python 3"
    },
    "language_info": {
      "name": "python"
    },
    "gpuClass": "standard"
  },
  "cells": [
    {
      "cell_type": "code",
      "source": [
        "from google.colab import drive\n",
        "drive.mount('/content/drive')"
      ],
      "metadata": {
        "colab": {
          "base_uri": "https://localhost:8080/"
        },
        "id": "hWQnU-9M2q9g",
        "outputId": "259b1353-daed-48e1-f40b-416b33bc9dbc"
      },
      "execution_count": 1,
      "outputs": [
        {
          "output_type": "stream",
          "name": "stdout",
          "text": [
            "Drive already mounted at /content/drive; to attempt to forcibly remount, call drive.mount(\"/content/drive\", force_remount=True).\n"
          ]
        }
      ]
    },
    {
      "cell_type": "code",
      "source": [
        "import tensorflow as tf\n",
        "from keras.preprocessing.image import  ImageDataGenerator"
      ],
      "metadata": {
        "id": "AJg4ekH4Mcn9"
      },
      "execution_count": 2,
      "outputs": []
    },
    {
      "cell_type": "code",
      "source": [
        "tf.__version__"
      ],
      "metadata": {
        "colab": {
          "base_uri": "https://localhost:8080/",
          "height": 36
        },
        "id": "djGQMgoZM8aB",
        "outputId": "6d7df5d0-0b77-4a6f-d8d8-234eb477b8ab"
      },
      "execution_count": 3,
      "outputs": [
        {
          "output_type": "execute_result",
          "data": {
            "text/plain": [
              "'2.8.2'"
            ],
            "application/vnd.google.colaboratory.intrinsic+json": {
              "type": "string"
            }
          },
          "metadata": {},
          "execution_count": 3
        }
      ]
    },
    {
      "cell_type": "code",
      "source": [
        "train_datagen = ImageDataGenerator(rescale = 1./255, shear_range = 0.2, zoom_range = 0.2, horizontal_flip = True)\n",
        "training_set = train_datagen.flow_from_directory('/content/drive/MyDrive/dataset/training_set',\n",
        "                                                 target_size = (64, 64),\n",
        "                                                 batch_size = 32,\n",
        "                                                 class_mode = 'binary')"
      ],
      "metadata": {
        "colab": {
          "base_uri": "https://localhost:8080/"
        },
        "id": "Rto1z-4JM_zm",
        "outputId": "f091216e-97e3-4d52-b087-314e9dfae65f"
      },
      "execution_count": 4,
      "outputs": [
        {
          "output_type": "stream",
          "name": "stdout",
          "text": [
            "Found 8020 images belonging to 2 classes.\n"
          ]
        }
      ]
    },
    {
      "cell_type": "code",
      "source": [
        "test_datagen = ImageDataGenerator(rescale = 1./255)\n",
        "test_set = test_datagen.flow_from_directory('/content/drive/MyDrive/dataset/test_set',\n",
        "                                            target_size = (64, 64),\n",
        "                                            batch_size = 32,\n",
        "                                            class_mode = 'binary')"
      ],
      "metadata": {
        "colab": {
          "base_uri": "https://localhost:8080/"
        },
        "id": "P5oBkY1uOywk",
        "outputId": "e1db91f8-bc68-4f5a-eb6a-dedbf3ebfa85"
      },
      "execution_count": 5,
      "outputs": [
        {
          "output_type": "stream",
          "name": "stdout",
          "text": [
            "Found 2000 images belonging to 2 classes.\n"
          ]
        }
      ]
    },
    {
      "cell_type": "code",
      "source": [
        "cnn = tf.keras.models.Sequential()"
      ],
      "metadata": {
        "id": "v6aN7xWhO75U"
      },
      "execution_count": 6,
      "outputs": []
    },
    {
      "cell_type": "code",
      "source": [
        "cnn.add(tf.keras.layers.Conv2D(filters=32, kernel_size=3, activation='relu', input_shape=[64, 64, 3]))\n"
      ],
      "metadata": {
        "id": "o5mpPvOZPxJK"
      },
      "execution_count": 7,
      "outputs": []
    },
    {
      "cell_type": "code",
      "source": [
        "cnn.add(tf.keras.layers.MaxPool2D(pool_size=2, strides=2))"
      ],
      "metadata": {
        "id": "98GQ1RilP4F9"
      },
      "execution_count": 9,
      "outputs": []
    },
    {
      "cell_type": "code",
      "source": [
        "cnn.add(tf.keras.layers.Conv2D(filters=32, kernel_size=3, activation='relu'))\n",
        "cnn.add(tf.keras.layers.MaxPool2D(pool_size=2, strides=2))"
      ],
      "metadata": {
        "id": "GbMDLyS_QKNR"
      },
      "execution_count": 10,
      "outputs": []
    },
    {
      "cell_type": "code",
      "source": [
        "cnn.add(tf.keras.layers.Flatten())"
      ],
      "metadata": {
        "id": "0IXcaqn1QN-d"
      },
      "execution_count": 11,
      "outputs": []
    },
    {
      "cell_type": "code",
      "source": [
        "cnn.add(tf.keras.layers.Dense(units=128, activation='relu'))"
      ],
      "metadata": {
        "id": "YWCPng89QTwz"
      },
      "execution_count": 12,
      "outputs": []
    },
    {
      "cell_type": "code",
      "source": [
        "cnn.add(tf.keras.layers.Dense(units=1, activation='sigmoid'))"
      ],
      "metadata": {
        "id": "yxSxDmjaQXf1"
      },
      "execution_count": 13,
      "outputs": []
    },
    {
      "cell_type": "code",
      "source": [
        "cnn.compile(optimizer = 'adam', loss = 'binary_crossentropy', metrics = ['accuracy'])"
      ],
      "metadata": {
        "id": "qVzLwsxDQbG1"
      },
      "execution_count": 14,
      "outputs": []
    },
    {
      "cell_type": "code",
      "source": [
        "cnn.fit(x = training_set, validation_data = test_set, epochs = 20)\n"
      ],
      "metadata": {
        "colab": {
          "base_uri": "https://localhost:8080/"
        },
        "id": "ZtwlBOD9QgZ3",
        "outputId": "66c85113-553a-43da-8d67-ce0d36a4d58f"
      },
      "execution_count": null,
      "outputs": [
        {
          "output_type": "stream",
          "name": "stdout",
          "text": [
            "Epoch 1/20\n",
            "251/251 [==============================] - 83s 329ms/step - loss: 0.4688 - accuracy: 0.7779 - val_loss: 0.4965 - val_accuracy: 0.7610\n",
            "Epoch 2/20\n",
            "251/251 [==============================] - 82s 326ms/step - loss: 0.4568 - accuracy: 0.7807 - val_loss: 0.4690 - val_accuracy: 0.7750\n",
            "Epoch 3/20\n",
            "251/251 [==============================] - 83s 330ms/step - loss: 0.4395 - accuracy: 0.7999 - val_loss: 0.5322 - val_accuracy: 0.7450\n",
            "Epoch 4/20\n",
            "251/251 [==============================] - 83s 331ms/step - loss: 0.4265 - accuracy: 0.7986 - val_loss: 0.4466 - val_accuracy: 0.7880\n",
            "Epoch 5/20\n",
            "251/251 [==============================] - 84s 333ms/step - loss: 0.4201 - accuracy: 0.8047 - val_loss: 0.4391 - val_accuracy: 0.7920\n",
            "Epoch 6/20\n",
            "251/251 [==============================] - 83s 330ms/step - loss: 0.4036 - accuracy: 0.8107 - val_loss: 0.4827 - val_accuracy: 0.7745\n",
            "Epoch 7/20\n",
            "251/251 [==============================] - 83s 330ms/step - loss: 0.3886 - accuracy: 0.8208 - val_loss: 0.4332 - val_accuracy: 0.8040\n",
            "Epoch 8/20\n",
            "251/251 [==============================] - 83s 329ms/step - loss: 0.3834 - accuracy: 0.8298 - val_loss: 0.4088 - val_accuracy: 0.8170\n",
            "Epoch 9/20\n",
            "251/251 [==============================] - 82s 325ms/step - loss: 0.3685 - accuracy: 0.8312 - val_loss: 0.3920 - val_accuracy: 0.8195\n",
            "Epoch 10/20\n",
            "251/251 [==============================] - 82s 328ms/step - loss: 0.3625 - accuracy: 0.8404 - val_loss: 0.3944 - val_accuracy: 0.8215\n",
            "Epoch 11/20\n",
            "251/251 [==============================] - 83s 330ms/step - loss: 0.3514 - accuracy: 0.8403 - val_loss: 0.4141 - val_accuracy: 0.8150\n",
            "Epoch 12/20\n",
            "251/251 [==============================] - 83s 331ms/step - loss: 0.3420 - accuracy: 0.8456 - val_loss: 0.3994 - val_accuracy: 0.8220\n",
            "Epoch 13/20\n",
            "251/251 [==============================] - 83s 330ms/step - loss: 0.3316 - accuracy: 0.8475 - val_loss: 0.3799 - val_accuracy: 0.8315\n",
            "Epoch 14/20\n",
            "240/251 [===========================>..] - ETA: 3s - loss: 0.3203 - accuracy: 0.8565"
          ]
        }
      ]
    },
    {
      "cell_type": "code",
      "source": [
        "import numpy as np\n",
        "from keras.preprocessing import image\n",
        "test_image = image.load_img('/content/drive/MyDrive/dataset/single_prediction/cat_or_dog_1.jpg', target_size = (64, 64))\n",
        "test_image = image.img_to_array(test_image)\n",
        "test_image = np.expand_dims(test_image, axis = 0)\n",
        "result = cnn.predict(test_image)\n",
        "training_set.class_indices\n",
        "print(type(test_image))\n",
        "if result[0][0] == 1:\n",
        "  prediction = 'dog'\n",
        "else:\n",
        "  prediction = 'cat'"
      ],
      "metadata": {
        "id": "wDQNLyQKSC5d",
        "colab": {
          "base_uri": "https://localhost:8080/"
        },
        "outputId": "6cf0ca39-9a85-4ca8-e1dc-5553ad79f8b9"
      },
      "execution_count": 16,
      "outputs": [
        {
          "output_type": "stream",
          "name": "stdout",
          "text": [
            "<class 'numpy.ndarray'>\n"
          ]
        }
      ]
    },
    {
      "cell_type": "code",
      "source": [
        "print(prediction)"
      ],
      "metadata": {
        "colab": {
          "base_uri": "https://localhost:8080/"
        },
        "id": "yYcGOAr5SXzU",
        "outputId": "1f61e310-3daa-4604-b8de-ad2333e80e60"
      },
      "execution_count": 17,
      "outputs": [
        {
          "output_type": "stream",
          "name": "stdout",
          "text": [
            "dog\n"
          ]
        }
      ]
    },
    {
      "cell_type": "code",
      "source": [
        "import numpy as np\n",
        "from keras.preprocessing import image\n",
        "test_image = image.load_img('/content/drive/MyDrive/dataset/single_prediction/cat_or_dog_2.jpg', target_size = (64, 64))\n",
        "test_image = image.img_to_array(test_image)\n",
        "test_image = np.expand_dims(test_image, axis = 0)\n",
        "result = cnn.predict(test_image)\n",
        "training_set.class_indices\n",
        "print(type(test_image))\n",
        "if result[0][0] == 1:\n",
        "  prediction = 'dog'\n",
        "else:\n",
        "  prediction = 'cat'"
      ],
      "metadata": {
        "id": "QAHgh43NQQyi",
        "colab": {
          "base_uri": "https://localhost:8080/"
        },
        "outputId": "2561602b-bbcd-4339-c93a-9dfd7ab7d40c"
      },
      "execution_count": 18,
      "outputs": [
        {
          "output_type": "stream",
          "name": "stdout",
          "text": [
            "<class 'numpy.ndarray'>\n"
          ]
        }
      ]
    },
    {
      "cell_type": "code",
      "source": [
        "print(prediction)"
      ],
      "metadata": {
        "colab": {
          "base_uri": "https://localhost:8080/"
        },
        "id": "VziyubWE4FC4",
        "outputId": "207ce218-6299-4a3f-f44a-7b9cf8562c6a"
      },
      "execution_count": 19,
      "outputs": [
        {
          "output_type": "stream",
          "name": "stdout",
          "text": [
            "cat\n"
          ]
        }
      ]
    }
  ]
}