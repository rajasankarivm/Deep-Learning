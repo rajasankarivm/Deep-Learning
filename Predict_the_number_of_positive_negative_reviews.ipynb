{
  "cells": [
    {
      "cell_type": "markdown",
      "metadata": {
        "_cell_guid": "39c44f0e-d62c-7e11-a542-4fcd58e21442",
        "_uuid": "4efef6a6c3143fbb6bca5903fc1a764bbbb861c4",
        "id": "23g5SsVH618j"
      },
      "source": [
        "Using LSTM to classify the movie reviews into positive and negative.\n"
      ]
    },
    {
      "cell_type": "code",
      "execution_count": 1,
      "metadata": {
        "_cell_guid": "6c53202d-5c34-4859-e7e9-8ef5c7068287",
        "_uuid": "717bb968c36b9325c7d4cae5724a3672e49ff243",
        "id": "Wuiccz5W618k"
      },
      "outputs": [],
      "source": [
        "import numpy as np \n",
        "import pandas as pd \n",
        "\n",
        "from sklearn.feature_extraction.text import CountVectorizer\n",
        "from keras.preprocessing.text import Tokenizer\n",
        "from keras_preprocessing.sequence import pad_sequences\n",
        "from keras.models import Sequential\n",
        "from keras.layers import Dense, Embedding, LSTM, SpatialDropout1D\n",
        "from sklearn.model_selection import train_test_split\n",
        "from keras.utils.np_utils import to_categorical\n",
        "from sklearn.utils import resample\n",
        "from sklearn.utils import shuffle\n",
        "from sklearn.metrics import confusion_matrix,classification_report\n",
        "import re\n",
        "\n",
        "# Input data files are available in the \"../input/\" directory.\n",
        "# For example, running this (by clicking run or pressing Shift+Enter) will list the files in the input directory"
      ]
    },
    {
      "cell_type": "markdown",
      "metadata": {
        "_cell_guid": "2bc2702e-d6f4-df5f-b80e-50ab23a6d29e",
        "_uuid": "9b520acffb5cd85d0e1ada968ad0f12cee33a4b5",
        "id": "ucCi1kSo618m"
      },
      "source": [
        "Only keeping the necessary columns."
      ]
    },
    {
      "cell_type": "code",
      "execution_count": 2,
      "metadata": {
        "_cell_guid": "89c8c923-c0bf-7b35-9ab8-e63f00b74e5a",
        "_uuid": "d2bc3bbd2ea3961c49e6673145a0a7226c160e58",
        "id": "Cw3Kdd89618m"
      },
      "outputs": [],
      "source": [
        "data = pd.read_csv('Sentiment.csv')\n",
        "data = data[['text','sentiment']]"
      ]
    },
    {
      "cell_type": "markdown",
      "metadata": {
        "_uuid": "68989f3bc936825f4425d2d08467ce17c4a2f092",
        "id": "eBPOIvje618n"
      },
      "source": [
        "Data preview"
      ]
    },
    {
      "cell_type": "code",
      "execution_count": 3,
      "metadata": {
        "_uuid": "f6a102c71c8e281450f7e73a5678cc9d0bb99e99",
        "colab": {
          "base_uri": "https://localhost:8080/",
          "height": 206
        },
        "id": "_5JfcEst618n",
        "outputId": "c43dab3a-66d6-433a-c864-74cfda607205"
      },
      "outputs": [
        {
          "output_type": "execute_result",
          "data": {
            "text/plain": [
              "                                                text sentiment\n",
              "0  RT @NancyLeeGrahn: How did everyone feel about...   Neutral\n",
              "1  RT @ScottWalker: Didn't catch the full #GOPdeb...  Positive\n",
              "2  RT @TJMShow: No mention of Tamir Rice and the ...   Neutral\n",
              "3  RT @RobGeorge: That Carly Fiorina is trending ...  Positive\n",
              "4  RT @DanScavino: #GOPDebate w/ @realDonaldTrump...  Positive"
            ],
            "text/html": [
              "\n",
              "  <div id=\"df-96a99f73-7722-4761-b779-97bb0b0d4bc3\">\n",
              "    <div class=\"colab-df-container\">\n",
              "      <div>\n",
              "<style scoped>\n",
              "    .dataframe tbody tr th:only-of-type {\n",
              "        vertical-align: middle;\n",
              "    }\n",
              "\n",
              "    .dataframe tbody tr th {\n",
              "        vertical-align: top;\n",
              "    }\n",
              "\n",
              "    .dataframe thead th {\n",
              "        text-align: right;\n",
              "    }\n",
              "</style>\n",
              "<table border=\"1\" class=\"dataframe\">\n",
              "  <thead>\n",
              "    <tr style=\"text-align: right;\">\n",
              "      <th></th>\n",
              "      <th>text</th>\n",
              "      <th>sentiment</th>\n",
              "    </tr>\n",
              "  </thead>\n",
              "  <tbody>\n",
              "    <tr>\n",
              "      <th>0</th>\n",
              "      <td>RT @NancyLeeGrahn: How did everyone feel about...</td>\n",
              "      <td>Neutral</td>\n",
              "    </tr>\n",
              "    <tr>\n",
              "      <th>1</th>\n",
              "      <td>RT @ScottWalker: Didn't catch the full #GOPdeb...</td>\n",
              "      <td>Positive</td>\n",
              "    </tr>\n",
              "    <tr>\n",
              "      <th>2</th>\n",
              "      <td>RT @TJMShow: No mention of Tamir Rice and the ...</td>\n",
              "      <td>Neutral</td>\n",
              "    </tr>\n",
              "    <tr>\n",
              "      <th>3</th>\n",
              "      <td>RT @RobGeorge: That Carly Fiorina is trending ...</td>\n",
              "      <td>Positive</td>\n",
              "    </tr>\n",
              "    <tr>\n",
              "      <th>4</th>\n",
              "      <td>RT @DanScavino: #GOPDebate w/ @realDonaldTrump...</td>\n",
              "      <td>Positive</td>\n",
              "    </tr>\n",
              "  </tbody>\n",
              "</table>\n",
              "</div>\n",
              "      <button class=\"colab-df-convert\" onclick=\"convertToInteractive('df-96a99f73-7722-4761-b779-97bb0b0d4bc3')\"\n",
              "              title=\"Convert this dataframe to an interactive table.\"\n",
              "              style=\"display:none;\">\n",
              "        \n",
              "  <svg xmlns=\"http://www.w3.org/2000/svg\" height=\"24px\"viewBox=\"0 0 24 24\"\n",
              "       width=\"24px\">\n",
              "    <path d=\"M0 0h24v24H0V0z\" fill=\"none\"/>\n",
              "    <path d=\"M18.56 5.44l.94 2.06.94-2.06 2.06-.94-2.06-.94-.94-2.06-.94 2.06-2.06.94zm-11 1L8.5 8.5l.94-2.06 2.06-.94-2.06-.94L8.5 2.5l-.94 2.06-2.06.94zm10 10l.94 2.06.94-2.06 2.06-.94-2.06-.94-.94-2.06-.94 2.06-2.06.94z\"/><path d=\"M17.41 7.96l-1.37-1.37c-.4-.4-.92-.59-1.43-.59-.52 0-1.04.2-1.43.59L10.3 9.45l-7.72 7.72c-.78.78-.78 2.05 0 2.83L4 21.41c.39.39.9.59 1.41.59.51 0 1.02-.2 1.41-.59l7.78-7.78 2.81-2.81c.8-.78.8-2.07 0-2.86zM5.41 20L4 18.59l7.72-7.72 1.47 1.35L5.41 20z\"/>\n",
              "  </svg>\n",
              "      </button>\n",
              "      \n",
              "  <style>\n",
              "    .colab-df-container {\n",
              "      display:flex;\n",
              "      flex-wrap:wrap;\n",
              "      gap: 12px;\n",
              "    }\n",
              "\n",
              "    .colab-df-convert {\n",
              "      background-color: #E8F0FE;\n",
              "      border: none;\n",
              "      border-radius: 50%;\n",
              "      cursor: pointer;\n",
              "      display: none;\n",
              "      fill: #1967D2;\n",
              "      height: 32px;\n",
              "      padding: 0 0 0 0;\n",
              "      width: 32px;\n",
              "    }\n",
              "\n",
              "    .colab-df-convert:hover {\n",
              "      background-color: #E2EBFA;\n",
              "      box-shadow: 0px 1px 2px rgba(60, 64, 67, 0.3), 0px 1px 3px 1px rgba(60, 64, 67, 0.15);\n",
              "      fill: #174EA6;\n",
              "    }\n",
              "\n",
              "    [theme=dark] .colab-df-convert {\n",
              "      background-color: #3B4455;\n",
              "      fill: #D2E3FC;\n",
              "    }\n",
              "\n",
              "    [theme=dark] .colab-df-convert:hover {\n",
              "      background-color: #434B5C;\n",
              "      box-shadow: 0px 1px 3px 1px rgba(0, 0, 0, 0.15);\n",
              "      filter: drop-shadow(0px 1px 2px rgba(0, 0, 0, 0.3));\n",
              "      fill: #FFFFFF;\n",
              "    }\n",
              "  </style>\n",
              "\n",
              "      <script>\n",
              "        const buttonEl =\n",
              "          document.querySelector('#df-96a99f73-7722-4761-b779-97bb0b0d4bc3 button.colab-df-convert');\n",
              "        buttonEl.style.display =\n",
              "          google.colab.kernel.accessAllowed ? 'block' : 'none';\n",
              "\n",
              "        async function convertToInteractive(key) {\n",
              "          const element = document.querySelector('#df-96a99f73-7722-4761-b779-97bb0b0d4bc3');\n",
              "          const dataTable =\n",
              "            await google.colab.kernel.invokeFunction('convertToInteractive',\n",
              "                                                     [key], {});\n",
              "          if (!dataTable) return;\n",
              "\n",
              "          const docLinkHtml = 'Like what you see? Visit the ' +\n",
              "            '<a target=\"_blank\" href=https://colab.research.google.com/notebooks/data_table.ipynb>data table notebook</a>'\n",
              "            + ' to learn more about interactive tables.';\n",
              "          element.innerHTML = '';\n",
              "          dataTable['output_type'] = 'display_data';\n",
              "          await google.colab.output.renderOutput(dataTable, element);\n",
              "          const docLink = document.createElement('div');\n",
              "          docLink.innerHTML = docLinkHtml;\n",
              "          element.appendChild(docLink);\n",
              "        }\n",
              "      </script>\n",
              "    </div>\n",
              "  </div>\n",
              "  "
            ]
          },
          "metadata": {},
          "execution_count": 3
        }
      ],
      "source": [
        "data.head()"
      ]
    },
    {
      "cell_type": "markdown",
      "metadata": {
        "_cell_guid": "4c0ec63b-cdf8-8e29-812b-0fbbfcea2929",
        "_uuid": "ff12d183224670f9c4c96fd24581b9924d4dff20",
        "id": "jvcQhxTD618n"
      },
      "source": [
        "Dropping the 'Neutral' sentiments as  goal was to only differentiate positive and negative tweets. "
      ]
    },
    {
      "cell_type": "code",
      "execution_count": 4,
      "metadata": {
        "_cell_guid": "43632d2d-6160-12ce-48b0-e5eb1c207076",
        "_uuid": "d0f8b4542106a279f7398db7285ae5e370b2e813",
        "colab": {
          "base_uri": "https://localhost:8080/",
          "height": 434
        },
        "id": "T6zfpI-G618o",
        "outputId": "78805f00-41bb-44dd-fb39-c9857e7ce017"
      },
      "outputs": [
        {
          "output_type": "stream",
          "name": "stderr",
          "text": [
            "/usr/local/lib/python3.7/dist-packages/ipykernel_launcher.py:2: SettingWithCopyWarning: \n",
            "A value is trying to be set on a copy of a slice from a DataFrame.\n",
            "Try using .loc[row_indexer,col_indexer] = value instead\n",
            "\n",
            "See the caveats in the documentation: https://pandas.pydata.org/pandas-docs/stable/user_guide/indexing.html#returning-a-view-versus-a-copy\n",
            "  \n",
            "/usr/local/lib/python3.7/dist-packages/ipykernel_launcher.py:4: SettingWithCopyWarning: \n",
            "A value is trying to be set on a copy of a slice from a DataFrame.\n",
            "Try using .loc[row_indexer,col_indexer] = value instead\n",
            "\n",
            "See the caveats in the documentation: https://pandas.pydata.org/pandas-docs/stable/user_guide/indexing.html#returning-a-view-versus-a-copy\n",
            "  after removing the cwd from sys.path.\n"
          ]
        },
        {
          "output_type": "execute_result",
          "data": {
            "text/plain": [
              "                                                text sentiment\n",
              "1  rt scottwalker didnt catch the full gopdebate ...  Positive\n",
              "3  rt robgeorge that carly fiorina is trending  h...  Positive\n",
              "4  rt danscavino gopdebate w realdonaldtrump deli...  Positive\n",
              "5  rt gregabbott_tx tedcruz on my first day i wil...  Positive\n",
              "6  rt warriorwoman91 i liked her and was happy wh...  Negative"
            ],
            "text/html": [
              "\n",
              "  <div id=\"df-1ad0a01a-25e6-457b-83b4-24771e12e0b1\">\n",
              "    <div class=\"colab-df-container\">\n",
              "      <div>\n",
              "<style scoped>\n",
              "    .dataframe tbody tr th:only-of-type {\n",
              "        vertical-align: middle;\n",
              "    }\n",
              "\n",
              "    .dataframe tbody tr th {\n",
              "        vertical-align: top;\n",
              "    }\n",
              "\n",
              "    .dataframe thead th {\n",
              "        text-align: right;\n",
              "    }\n",
              "</style>\n",
              "<table border=\"1\" class=\"dataframe\">\n",
              "  <thead>\n",
              "    <tr style=\"text-align: right;\">\n",
              "      <th></th>\n",
              "      <th>text</th>\n",
              "      <th>sentiment</th>\n",
              "    </tr>\n",
              "  </thead>\n",
              "  <tbody>\n",
              "    <tr>\n",
              "      <th>1</th>\n",
              "      <td>rt scottwalker didnt catch the full gopdebate ...</td>\n",
              "      <td>Positive</td>\n",
              "    </tr>\n",
              "    <tr>\n",
              "      <th>3</th>\n",
              "      <td>rt robgeorge that carly fiorina is trending  h...</td>\n",
              "      <td>Positive</td>\n",
              "    </tr>\n",
              "    <tr>\n",
              "      <th>4</th>\n",
              "      <td>rt danscavino gopdebate w realdonaldtrump deli...</td>\n",
              "      <td>Positive</td>\n",
              "    </tr>\n",
              "    <tr>\n",
              "      <th>5</th>\n",
              "      <td>rt gregabbott_tx tedcruz on my first day i wil...</td>\n",
              "      <td>Positive</td>\n",
              "    </tr>\n",
              "    <tr>\n",
              "      <th>6</th>\n",
              "      <td>rt warriorwoman91 i liked her and was happy wh...</td>\n",
              "      <td>Negative</td>\n",
              "    </tr>\n",
              "  </tbody>\n",
              "</table>\n",
              "</div>\n",
              "      <button class=\"colab-df-convert\" onclick=\"convertToInteractive('df-1ad0a01a-25e6-457b-83b4-24771e12e0b1')\"\n",
              "              title=\"Convert this dataframe to an interactive table.\"\n",
              "              style=\"display:none;\">\n",
              "        \n",
              "  <svg xmlns=\"http://www.w3.org/2000/svg\" height=\"24px\"viewBox=\"0 0 24 24\"\n",
              "       width=\"24px\">\n",
              "    <path d=\"M0 0h24v24H0V0z\" fill=\"none\"/>\n",
              "    <path d=\"M18.56 5.44l.94 2.06.94-2.06 2.06-.94-2.06-.94-.94-2.06-.94 2.06-2.06.94zm-11 1L8.5 8.5l.94-2.06 2.06-.94-2.06-.94L8.5 2.5l-.94 2.06-2.06.94zm10 10l.94 2.06.94-2.06 2.06-.94-2.06-.94-.94-2.06-.94 2.06-2.06.94z\"/><path d=\"M17.41 7.96l-1.37-1.37c-.4-.4-.92-.59-1.43-.59-.52 0-1.04.2-1.43.59L10.3 9.45l-7.72 7.72c-.78.78-.78 2.05 0 2.83L4 21.41c.39.39.9.59 1.41.59.51 0 1.02-.2 1.41-.59l7.78-7.78 2.81-2.81c.8-.78.8-2.07 0-2.86zM5.41 20L4 18.59l7.72-7.72 1.47 1.35L5.41 20z\"/>\n",
              "  </svg>\n",
              "      </button>\n",
              "      \n",
              "  <style>\n",
              "    .colab-df-container {\n",
              "      display:flex;\n",
              "      flex-wrap:wrap;\n",
              "      gap: 12px;\n",
              "    }\n",
              "\n",
              "    .colab-df-convert {\n",
              "      background-color: #E8F0FE;\n",
              "      border: none;\n",
              "      border-radius: 50%;\n",
              "      cursor: pointer;\n",
              "      display: none;\n",
              "      fill: #1967D2;\n",
              "      height: 32px;\n",
              "      padding: 0 0 0 0;\n",
              "      width: 32px;\n",
              "    }\n",
              "\n",
              "    .colab-df-convert:hover {\n",
              "      background-color: #E2EBFA;\n",
              "      box-shadow: 0px 1px 2px rgba(60, 64, 67, 0.3), 0px 1px 3px 1px rgba(60, 64, 67, 0.15);\n",
              "      fill: #174EA6;\n",
              "    }\n",
              "\n",
              "    [theme=dark] .colab-df-convert {\n",
              "      background-color: #3B4455;\n",
              "      fill: #D2E3FC;\n",
              "    }\n",
              "\n",
              "    [theme=dark] .colab-df-convert:hover {\n",
              "      background-color: #434B5C;\n",
              "      box-shadow: 0px 1px 3px 1px rgba(0, 0, 0, 0.15);\n",
              "      filter: drop-shadow(0px 1px 2px rgba(0, 0, 0, 0.3));\n",
              "      fill: #FFFFFF;\n",
              "    }\n",
              "  </style>\n",
              "\n",
              "      <script>\n",
              "        const buttonEl =\n",
              "          document.querySelector('#df-1ad0a01a-25e6-457b-83b4-24771e12e0b1 button.colab-df-convert');\n",
              "        buttonEl.style.display =\n",
              "          google.colab.kernel.accessAllowed ? 'block' : 'none';\n",
              "\n",
              "        async function convertToInteractive(key) {\n",
              "          const element = document.querySelector('#df-1ad0a01a-25e6-457b-83b4-24771e12e0b1');\n",
              "          const dataTable =\n",
              "            await google.colab.kernel.invokeFunction('convertToInteractive',\n",
              "                                                     [key], {});\n",
              "          if (!dataTable) return;\n",
              "\n",
              "          const docLinkHtml = 'Like what you see? Visit the ' +\n",
              "            '<a target=\"_blank\" href=https://colab.research.google.com/notebooks/data_table.ipynb>data table notebook</a>'\n",
              "            + ' to learn more about interactive tables.';\n",
              "          element.innerHTML = '';\n",
              "          dataTable['output_type'] = 'display_data';\n",
              "          await google.colab.output.renderOutput(dataTable, element);\n",
              "          const docLink = document.createElement('div');\n",
              "          docLink.innerHTML = docLinkHtml;\n",
              "          element.appendChild(docLink);\n",
              "        }\n",
              "      </script>\n",
              "    </div>\n",
              "  </div>\n",
              "  "
            ]
          },
          "metadata": {},
          "execution_count": 4
        }
      ],
      "source": [
        "data = data[data.sentiment != \"Neutral\"]\n",
        "data['text'] = data['text'].apply(lambda x: x.lower())\n",
        "# removing special chars\n",
        "data['text'] = data['text'].apply((lambda x: re.sub('[^a-zA-z0-9\\s]','',x)))\n",
        "#\n",
        "data.head()"
      ]
    },
    {
      "cell_type": "code",
      "execution_count": 5,
      "metadata": {
        "_cell_guid": "43632d2d-6160-12ce-48b0-e5eb1c207076",
        "_uuid": "d0f8b4542106a279f7398db7285ae5e370b2e813",
        "colab": {
          "base_uri": "https://localhost:8080/",
          "height": 241
        },
        "id": "9V-DOA2D618p",
        "outputId": "4f19dcd5-fbcd-48db-abac-4f9b3163947e"
      },
      "outputs": [
        {
          "output_type": "stream",
          "name": "stdout",
          "text": [
            "4472\n",
            "16986\n"
          ]
        },
        {
          "output_type": "execute_result",
          "data": {
            "text/plain": [
              "                                                text sentiment\n",
              "1   scottwalker didnt catch the full gopdebate la...  Positive\n",
              "3   robgeorge that carly fiorina is trending  hou...  Positive\n",
              "4   danscavino gopdebate w realdonaldtrump delive...  Positive\n",
              "5   gregabbott_tx tedcruz on my first day i will ...  Positive\n",
              "6   warriorwoman91 i liked her and was happy when...  Negative"
            ],
            "text/html": [
              "\n",
              "  <div id=\"df-84043f75-e454-4f49-accb-9b347ceae69b\">\n",
              "    <div class=\"colab-df-container\">\n",
              "      <div>\n",
              "<style scoped>\n",
              "    .dataframe tbody tr th:only-of-type {\n",
              "        vertical-align: middle;\n",
              "    }\n",
              "\n",
              "    .dataframe tbody tr th {\n",
              "        vertical-align: top;\n",
              "    }\n",
              "\n",
              "    .dataframe thead th {\n",
              "        text-align: right;\n",
              "    }\n",
              "</style>\n",
              "<table border=\"1\" class=\"dataframe\">\n",
              "  <thead>\n",
              "    <tr style=\"text-align: right;\">\n",
              "      <th></th>\n",
              "      <th>text</th>\n",
              "      <th>sentiment</th>\n",
              "    </tr>\n",
              "  </thead>\n",
              "  <tbody>\n",
              "    <tr>\n",
              "      <th>1</th>\n",
              "      <td>scottwalker didnt catch the full gopdebate la...</td>\n",
              "      <td>Positive</td>\n",
              "    </tr>\n",
              "    <tr>\n",
              "      <th>3</th>\n",
              "      <td>robgeorge that carly fiorina is trending  hou...</td>\n",
              "      <td>Positive</td>\n",
              "    </tr>\n",
              "    <tr>\n",
              "      <th>4</th>\n",
              "      <td>danscavino gopdebate w realdonaldtrump delive...</td>\n",
              "      <td>Positive</td>\n",
              "    </tr>\n",
              "    <tr>\n",
              "      <th>5</th>\n",
              "      <td>gregabbott_tx tedcruz on my first day i will ...</td>\n",
              "      <td>Positive</td>\n",
              "    </tr>\n",
              "    <tr>\n",
              "      <th>6</th>\n",
              "      <td>warriorwoman91 i liked her and was happy when...</td>\n",
              "      <td>Negative</td>\n",
              "    </tr>\n",
              "  </tbody>\n",
              "</table>\n",
              "</div>\n",
              "      <button class=\"colab-df-convert\" onclick=\"convertToInteractive('df-84043f75-e454-4f49-accb-9b347ceae69b')\"\n",
              "              title=\"Convert this dataframe to an interactive table.\"\n",
              "              style=\"display:none;\">\n",
              "        \n",
              "  <svg xmlns=\"http://www.w3.org/2000/svg\" height=\"24px\"viewBox=\"0 0 24 24\"\n",
              "       width=\"24px\">\n",
              "    <path d=\"M0 0h24v24H0V0z\" fill=\"none\"/>\n",
              "    <path d=\"M18.56 5.44l.94 2.06.94-2.06 2.06-.94-2.06-.94-.94-2.06-.94 2.06-2.06.94zm-11 1L8.5 8.5l.94-2.06 2.06-.94-2.06-.94L8.5 2.5l-.94 2.06-2.06.94zm10 10l.94 2.06.94-2.06 2.06-.94-2.06-.94-.94-2.06-.94 2.06-2.06.94z\"/><path d=\"M17.41 7.96l-1.37-1.37c-.4-.4-.92-.59-1.43-.59-.52 0-1.04.2-1.43.59L10.3 9.45l-7.72 7.72c-.78.78-.78 2.05 0 2.83L4 21.41c.39.39.9.59 1.41.59.51 0 1.02-.2 1.41-.59l7.78-7.78 2.81-2.81c.8-.78.8-2.07 0-2.86zM5.41 20L4 18.59l7.72-7.72 1.47 1.35L5.41 20z\"/>\n",
              "  </svg>\n",
              "      </button>\n",
              "      \n",
              "  <style>\n",
              "    .colab-df-container {\n",
              "      display:flex;\n",
              "      flex-wrap:wrap;\n",
              "      gap: 12px;\n",
              "    }\n",
              "\n",
              "    .colab-df-convert {\n",
              "      background-color: #E8F0FE;\n",
              "      border: none;\n",
              "      border-radius: 50%;\n",
              "      cursor: pointer;\n",
              "      display: none;\n",
              "      fill: #1967D2;\n",
              "      height: 32px;\n",
              "      padding: 0 0 0 0;\n",
              "      width: 32px;\n",
              "    }\n",
              "\n",
              "    .colab-df-convert:hover {\n",
              "      background-color: #E2EBFA;\n",
              "      box-shadow: 0px 1px 2px rgba(60, 64, 67, 0.3), 0px 1px 3px 1px rgba(60, 64, 67, 0.15);\n",
              "      fill: #174EA6;\n",
              "    }\n",
              "\n",
              "    [theme=dark] .colab-df-convert {\n",
              "      background-color: #3B4455;\n",
              "      fill: #D2E3FC;\n",
              "    }\n",
              "\n",
              "    [theme=dark] .colab-df-convert:hover {\n",
              "      background-color: #434B5C;\n",
              "      box-shadow: 0px 1px 3px 1px rgba(0, 0, 0, 0.15);\n",
              "      filter: drop-shadow(0px 1px 2px rgba(0, 0, 0, 0.3));\n",
              "      fill: #FFFFFF;\n",
              "    }\n",
              "  </style>\n",
              "\n",
              "      <script>\n",
              "        const buttonEl =\n",
              "          document.querySelector('#df-84043f75-e454-4f49-accb-9b347ceae69b button.colab-df-convert');\n",
              "        buttonEl.style.display =\n",
              "          google.colab.kernel.accessAllowed ? 'block' : 'none';\n",
              "\n",
              "        async function convertToInteractive(key) {\n",
              "          const element = document.querySelector('#df-84043f75-e454-4f49-accb-9b347ceae69b');\n",
              "          const dataTable =\n",
              "            await google.colab.kernel.invokeFunction('convertToInteractive',\n",
              "                                                     [key], {});\n",
              "          if (!dataTable) return;\n",
              "\n",
              "          const docLinkHtml = 'Like what you see? Visit the ' +\n",
              "            '<a target=\"_blank\" href=https://colab.research.google.com/notebooks/data_table.ipynb>data table notebook</a>'\n",
              "            + ' to learn more about interactive tables.';\n",
              "          element.innerHTML = '';\n",
              "          dataTable['output_type'] = 'display_data';\n",
              "          await google.colab.output.renderOutput(dataTable, element);\n",
              "          const docLink = document.createElement('div');\n",
              "          docLink.innerHTML = docLinkHtml;\n",
              "          element.appendChild(docLink);\n",
              "        }\n",
              "      </script>\n",
              "    </div>\n",
              "  </div>\n",
              "  "
            ]
          },
          "metadata": {},
          "execution_count": 5
        }
      ],
      "source": [
        "print(data[ data['sentiment'] == 'Positive'].size)\n",
        "print(data[ data['sentiment'] == 'Negative'].size)\n",
        "\n",
        "for idx,row in data.iterrows():\n",
        "    row[0] = row[0].replace('rt','')\n",
        "data.head()"
      ]
    },
    {
      "cell_type": "code",
      "execution_count": 6,
      "metadata": {
        "_cell_guid": "43632d2d-6160-12ce-48b0-e5eb1c207076",
        "_uuid": "d0f8b4542106a279f7398db7285ae5e370b2e813",
        "colab": {
          "base_uri": "https://localhost:8080/"
        },
        "id": "8iMfiEhm618p",
        "outputId": "f1166c1c-8899-42aa-e134-a5d5aa428ea8"
      },
      "outputs": [
        {
          "output_type": "execute_result",
          "data": {
            "text/plain": [
              "array([[   0,    0,    0,    0,    0,    0,    0,    0,    0,    0,    0,\n",
              "         359,  120,    1,  692,    2,   39,   58,  234,   37,  207,    6,\n",
              "         172, 1745,   12, 1308, 1394,  733],\n",
              "       [   0,    0,    0,    0,    0,    0,    0,    0,    0,    0,    0,\n",
              "          16,  281,  249,    5,  809,  102,  170,   26,  134,    6,    1,\n",
              "         171,   12,    2,  231,  713,   17]], dtype=int32)"
            ]
          },
          "metadata": {},
          "execution_count": 6
        }
      ],
      "source": [
        "    \n",
        "max_fatures = 2000\n",
        "tokenizer = Tokenizer(num_words=max_fatures, split=' ')\n",
        "tokenizer.fit_on_texts(data['text'].values)\n",
        "X = tokenizer.texts_to_sequences(data['text'].values)\n",
        "X = pad_sequences(X)\n",
        "X[:2]"
      ]
    },
    {
      "cell_type": "markdown",
      "metadata": {
        "_cell_guid": "9753421e-1303-77d5-b17f-5f25fa08c452",
        "_uuid": "aa7d103e946e631133d86ef3adc73e1a8b1a1e89",
        "id": "dWGF2ynx618p"
      },
      "source": [
        "compose the LSTM Network. Note that **embed_dim**, **lstm_out**, **batch_size**, **droupout_x** variables are hyperparameters, their values are somehow intuitive, can be and must be played with in order to achieve good results. "
      ]
    },
    {
      "cell_type": "code",
      "execution_count": 13,
      "metadata": {
        "_cell_guid": "1ba3cf60-a83c-9c21-05e0-b14303027e93",
        "_uuid": "05cb9ef0ec9e0a4067e3ab7c1bda7b2c1211feda",
        "scrolled": true,
        "colab": {
          "base_uri": "https://localhost:8080/"
        },
        "id": "uVSwh20q618q",
        "outputId": "3755446f-79ce-457a-9076-de470a8b768a"
      },
      "outputs": [
        {
          "output_type": "stream",
          "name": "stderr",
          "text": [
            "WARNING:tensorflow:Layer lstm_1 will not use cuDNN kernels since it doesn't meet the criteria. It will use a generic GPU kernel as fallback when running on GPU.\n"
          ]
        },
        {
          "output_type": "stream",
          "name": "stdout",
          "text": [
            "Model: \"sequential_1\"\n",
            "_________________________________________________________________\n",
            " Layer (type)                Output Shape              Param #   \n",
            "=================================================================\n",
            " embedding_1 (Embedding)     (None, 28, 128)           256000    \n",
            "                                                                 \n",
            " spatial_dropout1d_1 (Spatia  (None, 28, 128)          0         \n",
            " lDropout1D)                                                     \n",
            "                                                                 \n",
            " lstm_1 (LSTM)               (None, 192)               246528    \n",
            "                                                                 \n",
            " dense_1 (Dense)             (None, 2)                 386       \n",
            "                                                                 \n",
            "=================================================================\n",
            "Total params: 502,914\n",
            "Trainable params: 502,914\n",
            "Non-trainable params: 0\n",
            "_________________________________________________________________\n",
            "None\n"
          ]
        }
      ],
      "source": [
        "embed_dim = 128\n",
        "lstm_out = 192\n",
        "\n",
        "model = Sequential()\n",
        "model.add(Embedding(max_fatures, embed_dim,input_length = X_train.shape[1]))\n",
        "model.add(SpatialDropout1D(0.4))\n",
        "model.add(LSTM(lstm_out, dropout=0.4, recurrent_dropout=0.4))\n",
        "model.add(Dense(2,activation='softmax'))\n",
        "model.compile(loss = 'categorical_crossentropy', optimizer='adam',metrics = ['accuracy'])\n",
        "print(model.summary())"
      ]
    },
    {
      "cell_type": "code",
      "execution_count": 14,
      "metadata": {
        "_cell_guid": "b35748b8-2353-3db2-e571-5fd22bb93eb0",
        "_uuid": "a380bbfae2d098d407b138fc44622c9913a31c07",
        "colab": {
          "base_uri": "https://localhost:8080/"
        },
        "id": "l5lCwZfN618q",
        "outputId": "8e42f598-861f-4f7f-cc28-e64aecd6b061"
      },
      "outputs": [
        {
          "output_type": "stream",
          "name": "stdout",
          "text": [
            "(8583, 28) (8583, 2)\n",
            "(2146, 28) (2146, 2)\n"
          ]
        }
      ],
      "source": [
        "Y = pd.get_dummies(data['sentiment']).values\n",
        "X_train, X_test, Y_train, Y_test = train_test_split(X,Y, test_size = 0.20, random_state = 42)\n",
        "print(X_train.shape,Y_train.shape)\n",
        "print(X_test.shape,Y_test.shape)"
      ]
    },
    {
      "cell_type": "code",
      "execution_count": 15,
      "metadata": {
        "_cell_guid": "d5e499ac-2eba-6ff7-8d9a-ff65eb04099b",
        "_uuid": "d0b239912cf67294a9f5af6883bb159c44318fc7",
        "colab": {
          "base_uri": "https://localhost:8080/"
        },
        "id": "ZRXfzT1s618q",
        "outputId": "de6054d4-224b-48d3-efc2-c229be8ee731"
      },
      "outputs": [
        {
          "output_type": "stream",
          "name": "stdout",
          "text": [
            "Epoch 1/100\n",
            "68/68 [==============================] - 11s 129ms/step - loss: 0.4859 - accuracy: 0.7949\n",
            "Epoch 2/100\n",
            "68/68 [==============================] - 9s 129ms/step - loss: 0.3505 - accuracy: 0.8527\n",
            "Epoch 3/100\n",
            "68/68 [==============================] - 9s 130ms/step - loss: 0.2992 - accuracy: 0.8735\n",
            "Epoch 4/100\n",
            "68/68 [==============================] - 9s 131ms/step - loss: 0.2778 - accuracy: 0.8826\n",
            "Epoch 5/100\n",
            "68/68 [==============================] - 9s 131ms/step - loss: 0.2536 - accuracy: 0.8898\n",
            "Epoch 6/100\n",
            "68/68 [==============================] - 9s 129ms/step - loss: 0.2454 - accuracy: 0.8979\n",
            "Epoch 7/100\n",
            "68/68 [==============================] - 9s 129ms/step - loss: 0.2271 - accuracy: 0.9043\n",
            "Epoch 8/100\n",
            "68/68 [==============================] - 9s 128ms/step - loss: 0.2188 - accuracy: 0.9113\n",
            "Epoch 9/100\n",
            "68/68 [==============================] - 9s 129ms/step - loss: 0.2032 - accuracy: 0.9153\n",
            "Epoch 10/100\n",
            "68/68 [==============================] - 9s 129ms/step - loss: 0.1962 - accuracy: 0.9182\n",
            "Epoch 11/100\n",
            "68/68 [==============================] - 9s 129ms/step - loss: 0.1877 - accuracy: 0.9229\n",
            "Epoch 12/100\n",
            "68/68 [==============================] - 9s 130ms/step - loss: 0.1795 - accuracy: 0.9273\n",
            "Epoch 13/100\n",
            "68/68 [==============================] - 9s 133ms/step - loss: 0.1764 - accuracy: 0.9252\n",
            "Epoch 14/100\n",
            "68/68 [==============================] - 9s 129ms/step - loss: 0.1689 - accuracy: 0.9311\n",
            "Epoch 15/100\n",
            "68/68 [==============================] - 9s 130ms/step - loss: 0.1611 - accuracy: 0.9337\n",
            "Epoch 16/100\n",
            "68/68 [==============================] - 9s 127ms/step - loss: 0.1591 - accuracy: 0.9348\n",
            "Epoch 17/100\n",
            "68/68 [==============================] - 9s 129ms/step - loss: 0.1512 - accuracy: 0.9376\n",
            "Epoch 18/100\n",
            "68/68 [==============================] - 9s 129ms/step - loss: 0.1443 - accuracy: 0.9401\n",
            "Epoch 19/100\n",
            "68/68 [==============================] - 9s 128ms/step - loss: 0.1481 - accuracy: 0.9360\n",
            "Epoch 20/100\n",
            "68/68 [==============================] - 9s 130ms/step - loss: 0.1431 - accuracy: 0.9395\n",
            "Epoch 21/100\n",
            "68/68 [==============================] - 9s 131ms/step - loss: 0.1392 - accuracy: 0.9415\n",
            "Epoch 22/100\n",
            "68/68 [==============================] - 9s 128ms/step - loss: 0.1403 - accuracy: 0.9403\n",
            "Epoch 23/100\n",
            "68/68 [==============================] - 9s 128ms/step - loss: 0.1288 - accuracy: 0.9466\n",
            "Epoch 24/100\n",
            "68/68 [==============================] - 8s 125ms/step - loss: 0.1276 - accuracy: 0.9492\n",
            "Epoch 25/100\n",
            "68/68 [==============================] - 9s 125ms/step - loss: 0.1223 - accuracy: 0.9490\n",
            "Epoch 26/100\n",
            "68/68 [==============================] - 10s 141ms/step - loss: 0.1212 - accuracy: 0.9512\n",
            "Epoch 27/100\n",
            "68/68 [==============================] - 9s 126ms/step - loss: 0.1159 - accuracy: 0.9511\n",
            "Epoch 28/100\n",
            "68/68 [==============================] - 9s 131ms/step - loss: 0.1150 - accuracy: 0.9506\n",
            "Epoch 29/100\n",
            "68/68 [==============================] - 9s 128ms/step - loss: 0.1124 - accuracy: 0.9497\n",
            "Epoch 30/100\n",
            "68/68 [==============================] - 9s 127ms/step - loss: 0.1063 - accuracy: 0.9560\n",
            "Epoch 31/100\n",
            "68/68 [==============================] - 9s 131ms/step - loss: 0.1081 - accuracy: 0.9540\n",
            "Epoch 32/100\n",
            "68/68 [==============================] - 9s 129ms/step - loss: 0.1106 - accuracy: 0.9555\n",
            "Epoch 33/100\n",
            "68/68 [==============================] - 9s 128ms/step - loss: 0.1010 - accuracy: 0.9563\n",
            "Epoch 34/100\n",
            "68/68 [==============================] - 9s 128ms/step - loss: 0.0972 - accuracy: 0.9585\n",
            "Epoch 35/100\n",
            "68/68 [==============================] - 9s 128ms/step - loss: 0.1001 - accuracy: 0.9596\n",
            "Epoch 36/100\n",
            "68/68 [==============================] - 9s 128ms/step - loss: 0.0959 - accuracy: 0.9612\n",
            "Epoch 37/100\n",
            "68/68 [==============================] - 9s 127ms/step - loss: 0.0992 - accuracy: 0.9581\n",
            "Epoch 38/100\n",
            "68/68 [==============================] - 9s 129ms/step - loss: 0.0937 - accuracy: 0.9613\n",
            "Epoch 39/100\n",
            "68/68 [==============================] - 9s 128ms/step - loss: 0.0936 - accuracy: 0.9604\n",
            "Epoch 40/100\n",
            "68/68 [==============================] - 9s 132ms/step - loss: 0.0868 - accuracy: 0.9632\n",
            "Epoch 41/100\n",
            "68/68 [==============================] - 9s 132ms/step - loss: 0.0943 - accuracy: 0.9611\n",
            "Epoch 42/100\n",
            "68/68 [==============================] - 9s 134ms/step - loss: 0.0941 - accuracy: 0.9599\n",
            "Epoch 43/100\n",
            "68/68 [==============================] - 9s 128ms/step - loss: 0.0912 - accuracy: 0.9638\n",
            "Epoch 44/100\n",
            "68/68 [==============================] - 9s 126ms/step - loss: 0.0881 - accuracy: 0.9613\n",
            "Epoch 45/100\n",
            "68/68 [==============================] - 9s 128ms/step - loss: 0.0848 - accuracy: 0.9655\n",
            "Epoch 46/100\n",
            "68/68 [==============================] - 9s 129ms/step - loss: 0.0881 - accuracy: 0.9628\n",
            "Epoch 47/100\n",
            "68/68 [==============================] - 9s 128ms/step - loss: 0.0881 - accuracy: 0.9641\n",
            "Epoch 48/100\n",
            "68/68 [==============================] - 9s 131ms/step - loss: 0.0828 - accuracy: 0.9659\n",
            "Epoch 49/100\n",
            "68/68 [==============================] - 9s 128ms/step - loss: 0.0852 - accuracy: 0.9643\n",
            "Epoch 50/100\n",
            "68/68 [==============================] - 9s 130ms/step - loss: 0.0832 - accuracy: 0.9652\n",
            "Epoch 51/100\n",
            "68/68 [==============================] - 9s 126ms/step - loss: 0.0835 - accuracy: 0.9642\n",
            "Epoch 52/100\n",
            "68/68 [==============================] - 9s 127ms/step - loss: 0.0759 - accuracy: 0.9687\n",
            "Epoch 53/100\n",
            "68/68 [==============================] - 10s 144ms/step - loss: 0.0851 - accuracy: 0.9640\n",
            "Epoch 54/100\n",
            "68/68 [==============================] - 9s 127ms/step - loss: 0.0792 - accuracy: 0.9671\n",
            "Epoch 55/100\n",
            "68/68 [==============================] - 9s 131ms/step - loss: 0.0796 - accuracy: 0.9653\n",
            "Epoch 56/100\n",
            "68/68 [==============================] - 9s 127ms/step - loss: 0.0813 - accuracy: 0.9652\n",
            "Epoch 57/100\n",
            "68/68 [==============================] - 9s 128ms/step - loss: 0.0792 - accuracy: 0.9668\n",
            "Epoch 58/100\n",
            "68/68 [==============================] - 9s 128ms/step - loss: 0.0778 - accuracy: 0.9687\n",
            "Epoch 59/100\n",
            "68/68 [==============================] - 9s 132ms/step - loss: 0.0796 - accuracy: 0.9668\n",
            "Epoch 60/100\n",
            "68/68 [==============================] - 9s 130ms/step - loss: 0.0745 - accuracy: 0.9684\n",
            "Epoch 61/100\n",
            "68/68 [==============================] - 9s 129ms/step - loss: 0.0760 - accuracy: 0.9669\n",
            "Epoch 62/100\n",
            "68/68 [==============================] - 9s 129ms/step - loss: 0.0771 - accuracy: 0.9666\n",
            "Epoch 63/100\n",
            "68/68 [==============================] - 9s 128ms/step - loss: 0.0719 - accuracy: 0.9683\n",
            "Epoch 64/100\n",
            "68/68 [==============================] - 9s 128ms/step - loss: 0.0738 - accuracy: 0.9677\n",
            "Epoch 65/100\n",
            "68/68 [==============================] - 9s 128ms/step - loss: 0.0711 - accuracy: 0.9701\n",
            "Epoch 66/100\n",
            "68/68 [==============================] - 9s 131ms/step - loss: 0.0706 - accuracy: 0.9699\n",
            "Epoch 67/100\n",
            "68/68 [==============================] - 9s 129ms/step - loss: 0.0764 - accuracy: 0.9688\n",
            "Epoch 68/100\n",
            "68/68 [==============================] - 9s 130ms/step - loss: 0.0712 - accuracy: 0.9703\n",
            "Epoch 69/100\n",
            "68/68 [==============================] - 9s 129ms/step - loss: 0.0724 - accuracy: 0.9704\n",
            "Epoch 70/100\n",
            "68/68 [==============================] - 9s 127ms/step - loss: 0.0777 - accuracy: 0.9674\n",
            "Epoch 71/100\n",
            "68/68 [==============================] - 9s 128ms/step - loss: 0.0756 - accuracy: 0.9683\n",
            "Epoch 72/100\n",
            "68/68 [==============================] - 9s 129ms/step - loss: 0.0693 - accuracy: 0.9703\n",
            "Epoch 73/100\n",
            "68/68 [==============================] - 9s 127ms/step - loss: 0.0724 - accuracy: 0.9688\n",
            "Epoch 74/100\n",
            "68/68 [==============================] - 9s 129ms/step - loss: 0.0691 - accuracy: 0.9703\n",
            "Epoch 75/100\n",
            "68/68 [==============================] - 9s 130ms/step - loss: 0.0716 - accuracy: 0.9695\n",
            "Epoch 76/100\n",
            "68/68 [==============================] - 9s 126ms/step - loss: 0.0701 - accuracy: 0.9706\n",
            "Epoch 77/100\n",
            "68/68 [==============================] - 9s 126ms/step - loss: 0.0684 - accuracy: 0.9719\n",
            "Epoch 78/100\n",
            "68/68 [==============================] - 8s 123ms/step - loss: 0.0704 - accuracy: 0.9699\n",
            "Epoch 79/100\n",
            "68/68 [==============================] - 9s 128ms/step - loss: 0.0661 - accuracy: 0.9722\n",
            "Epoch 80/100\n",
            "68/68 [==============================] - 9s 137ms/step - loss: 0.0707 - accuracy: 0.9710\n",
            "Epoch 81/100\n",
            "68/68 [==============================] - 9s 127ms/step - loss: 0.0695 - accuracy: 0.9705\n",
            "Epoch 82/100\n",
            "68/68 [==============================] - 9s 128ms/step - loss: 0.0679 - accuracy: 0.9706\n",
            "Epoch 83/100\n",
            "68/68 [==============================] - 9s 129ms/step - loss: 0.0697 - accuracy: 0.9698\n",
            "Epoch 84/100\n",
            "68/68 [==============================] - 9s 126ms/step - loss: 0.0657 - accuracy: 0.9727\n",
            "Epoch 85/100\n",
            "68/68 [==============================] - 9s 129ms/step - loss: 0.0669 - accuracy: 0.9716\n",
            "Epoch 86/100\n",
            "68/68 [==============================] - 9s 130ms/step - loss: 0.0702 - accuracy: 0.9704\n",
            "Epoch 87/100\n",
            "68/68 [==============================] - 9s 130ms/step - loss: 0.0674 - accuracy: 0.9701\n",
            "Epoch 88/100\n",
            "68/68 [==============================] - 9s 128ms/step - loss: 0.0698 - accuracy: 0.9701\n",
            "Epoch 89/100\n",
            "68/68 [==============================] - 9s 128ms/step - loss: 0.0625 - accuracy: 0.9729\n",
            "Epoch 90/100\n",
            "68/68 [==============================] - 9s 128ms/step - loss: 0.0651 - accuracy: 0.9715\n",
            "Epoch 91/100\n",
            "68/68 [==============================] - 8s 125ms/step - loss: 0.0651 - accuracy: 0.9718\n",
            "Epoch 92/100\n",
            "68/68 [==============================] - 9s 129ms/step - loss: 0.0669 - accuracy: 0.9709\n",
            "Epoch 93/100\n",
            "68/68 [==============================] - 9s 132ms/step - loss: 0.0673 - accuracy: 0.9720\n",
            "Epoch 94/100\n",
            "68/68 [==============================] - 9s 130ms/step - loss: 0.0689 - accuracy: 0.9706\n",
            "Epoch 95/100\n",
            "68/68 [==============================] - 9s 128ms/step - loss: 0.0686 - accuracy: 0.9724\n",
            "Epoch 96/100\n",
            "68/68 [==============================] - 9s 131ms/step - loss: 0.0639 - accuracy: 0.9725\n",
            "Epoch 97/100\n",
            "68/68 [==============================] - 9s 130ms/step - loss: 0.0632 - accuracy: 0.9717\n",
            "Epoch 98/100\n",
            "68/68 [==============================] - 9s 128ms/step - loss: 0.0627 - accuracy: 0.9732\n",
            "Epoch 99/100\n",
            "68/68 [==============================] - 9s 127ms/step - loss: 0.0641 - accuracy: 0.9726\n",
            "Epoch 100/100\n",
            "68/68 [==============================] - 9s 126ms/step - loss: 0.0624 - accuracy: 0.9739\n"
          ]
        },
        {
          "output_type": "execute_result",
          "data": {
            "text/plain": [
              "<keras.callbacks.History at 0x7fe0e0118c50>"
            ]
          },
          "metadata": {},
          "execution_count": 15
        }
      ],
      "source": [
        "batch_size = 128\n",
        "model.fit(X_train, Y_train, epochs = 100, batch_size=batch_size, verbose = 1)"
      ]
    },
    {
      "cell_type": "code",
      "execution_count": 17,
      "metadata": {
        "_cell_guid": "24c64f46-edd1-8d0b-7c7c-ef50fd26b2fd",
        "_uuid": "d9aac68e2013b3beffb6a764cc5b85be83073e66",
        "colab": {
          "base_uri": "https://localhost:8080/"
        },
        "id": "bYGnnv_u618t",
        "outputId": "a8792154-8b0d-427a-c697-ade4e2c61335"
      },
      "outputs": [
        {
          "output_type": "stream",
          "name": "stdout",
          "text": [
            "[[  0   0   0   0   0   0   0   0   0   0   0   0   0   0   0   0   0   0\n",
            "    0   0   0   0   0 381  47   1 137 464]]\n",
            "1/1 - 0s - 251ms/epoch - 251ms/step\n",
            "positive\n"
          ]
        }
      ],
      "source": [
        "twt = ['keep up the good work']\n",
        "#vectorizing the tweet by the pre-fitted tokenizer instance\n",
        "twt = tokenizer.texts_to_sequences(twt)\n",
        "#padding the tweet to have exactly the same shape as `embedding_2` input\n",
        "twt = pad_sequences(twt, maxlen=28, dtype='int32', value=0)\n",
        "print(twt)\n",
        "sentiment = model.predict(twt,batch_size=1,verbose = 2)[0]\n",
        "if(np.argmax(sentiment) == 0):\n",
        "    print(\"negative\")\n",
        "elif (np.argmax(sentiment) == 1):\n",
        "    print(\"positive\")"
      ]
    },
    {
      "cell_type": "code",
      "execution_count": 18,
      "metadata": {
        "_cell_guid": "24c64f46-edd1-8d0b-7c7c-ef50fd26b2fd",
        "_uuid": "d9aac68e2013b3beffb6a764cc5b85be83073e66",
        "colab": {
          "base_uri": "https://localhost:8080/"
        },
        "id": "8POKUP16618u",
        "outputId": "859f72ce-5d33-4cf9-87d6-292c76fa6d64"
      },
      "outputs": [
        {
          "output_type": "stream",
          "name": "stdout",
          "text": [
            "[[   0    0    0    0    0    0    0    0    0    0    0    0    0    0\n",
            "     0    0    0    0    0    0    0    0    0 1288   43  200   14   74]]\n",
            "1/1 - 0s - 55ms/epoch - 55ms/step\n",
            "negative\n"
          ]
        }
      ],
      "source": [
        "twt = ['inaccurate facts, dont vote for him']\n",
        "#vectorizing the tweet by the pre-fitted tokenizer instance\n",
        "twt = tokenizer.texts_to_sequences(twt)\n",
        "#padding the tweet to have exactly the same shape as `embedding_2` input\n",
        "twt = pad_sequences(twt, maxlen=28, dtype='int32', value=0)\n",
        "print(twt)\n",
        "sentiment = model.predict(twt,batch_size=1,verbose = 2)[0]\n",
        "if(np.argmax(sentiment) == 0):\n",
        "    print(\"negative\")\n",
        "elif (np.argmax(sentiment) == 1):\n",
        "    print(\"positive\")"
      ]
    },
    {
      "cell_type": "code",
      "execution_count": 39,
      "metadata": {
        "_cell_guid": "c611b55c-92e4-4a33-8e82-1812bef6193d",
        "_uuid": "8b10995b0832ec98ba0c75832186fcb09b1a2d5f",
        "collapsed": true,
        "colab": {
          "base_uri": "https://localhost:8080/"
        },
        "id": "UBF5LMjU618u",
        "outputId": "4f8d77b3-6808-40df-a840-c8f935a946ce"
      },
      "outputs": [
        {
          "output_type": "stream",
          "name": "stdout",
          "text": [
            "positive data in test: 0\n",
            "negative data in test: 1\n"
          ]
        }
      ],
      "source": [
        "print('positive data in test:',(np.argmax(sentiment) == 1).sum())\n",
        "print('negative data in test:',(np.argmax(sentiment) == 0).sum())"
      ]
    }
  ],
  "metadata": {
    "_change_revision": 0,
    "_is_fork": false,
    "kernelspec": {
      "display_name": "Python 3",
      "language": "python",
      "name": "python3"
    },
    "language_info": {
      "codemirror_mode": {
        "name": "ipython",
        "version": 3
      },
      "file_extension": ".py",
      "mimetype": "text/x-python",
      "name": "python",
      "nbconvert_exporter": "python",
      "pygments_lexer": "ipython3",
      "version": "3.6.6"
    },
    "colab": {
      "provenance": []
    },
    "accelerator": "GPU",
    "gpuClass": "standard"
  },
  "nbformat": 4,
  "nbformat_minor": 0
}